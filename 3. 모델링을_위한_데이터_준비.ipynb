{
 "cells": [
  {
   "cell_type": "code",
   "execution_count": 71,
   "id": "f68ed18d",
   "metadata": {},
   "outputs": [],
   "source": [
    "# 데이터 처리\n",
    "import pandas as pd\n",
    "# 행렬 연산\n",
    "import numpy as np\n",
    "# 데이터 시각화\n",
    "import matplotlib as mpl\n",
    "import matplotlib.pyplot as plt\n",
    "import seaborn as sns\n",
    "# 선형 회귀분석모델 formula(y ~ X1 + X2 + ...)\n",
    "import statsmodels.formula.api as smf\n",
    "# 회귀분석의 정규성 확인\n",
    "from statsmodels.api import qqplot\n",
    "\n",
    "# 실행결과 경고메시지 출력 제외\n",
    "import warnings\n",
    "\n",
    "warnings.filterwarnings('ignore')\n",
    "\n",
    "# 유니코드 깨짐현상 해결\n",
    "mpl.rcParams['axes.unicode_minus'] = False\n",
    "\n",
    "# 나눔고딕 폰트 적용\n",
    "plt.rcParams[\"font.family\"] = 'NanumGothic'"
   ]
  },
  {
   "cell_type": "code",
   "execution_count": 72,
   "id": "cd583bde",
   "metadata": {},
   "outputs": [],
   "source": [
    "# 45 Page\n",
    "# 데이터 구성:Series, DataFrame\n",
    "import pandas as pd\n",
    "# 행렬 연산\n",
    "import numpy as np\n",
    "# 데이터 시각화\n",
    "import matplotlib\n",
    "import matplotlib.pyplot as plt\n",
    "import seaborn as sns\n",
    "# 선형 회귀모델 formula(y ~ X1 + X2 + ...)\n",
    "import statsmodels.formula.api as smf\n",
    "# 잔차의 정규성 확인 :qqplot, 회귀분석의 상수항 추가 : add_constant\n",
    "from statsmodels.api import qqplot, add_constant\n",
    "# 다중공선성 확인\n",
    "from statsmodels.stats.outliers_influence import variance_inflation_factor\n",
    "# 학습용/평가용 데이터 분리:train, test\n",
    "from sklearn.model_selection import train_test_split\n",
    "# 선형회귀모형\n",
    "from sklearn.linear_model import LinearRegression\n",
    "# 변수 선택법(후진제거법)\n",
    "from sklearn.feature_selection import RFE\n",
    "# Scale 변환->표준화 회귀계수 산출\n",
    "from sklearn.preprocessing import StandardScaler\n",
    "# 평가함수\n",
    "from sklearn.metrics import r2_score"
   ]
  },
  {
   "cell_type": "code",
   "execution_count": 73,
   "id": "621b51d3",
   "metadata": {},
   "outputs": [
    {
     "data": {
      "text/plain": [
       "Index(['idUser', 'Gender', 'Age', 'AgeGroup', 'Recency', 'Frequency',\n",
       "       'Monetary', 'RFM_Score', '2022_Cus_Grade1', '2022_Cus_Grade2',\n",
       "       '2023_Cus_Grade1', '2023_Cus_Grade2', '2022 상반기_고객등급', '2022 하반기_고객등급',\n",
       "       '2023 상반기_고객등급', '2023 하반기_고객등급', 'Visit_Score', 'SalesDate', 'SalesDT',\n",
       "       'Year', 'Month', 'Day', 'WeekdayName', 'Hour', 'ItemId', 'idPOS',\n",
       "       'ItemNameLarge', 'ItemNameMiddle', 'ItemName', 'Item_CatORMaker',\n",
       "       'ImageUrl', 'Price', 'Sales_Day', 'Sales_Month', 'Sales_Year',\n",
       "       'PayUnit_Equal_Day', 'PayUnit_Diff_Day', 'PayUnit_Equal_Month',\n",
       "       'PayUnit_Diff_Month', 'PayUnit_Equal_Year', 'PayUnit_Diff_Year',\n",
       "       'TempAvg', 'TempMin', 'hhmiTempMin', 'TempMax', 'hhmiTempMax',\n",
       "       'Temp_Var', 'hourRainfall', 'RainfallAmount', 'HumidAvg', 'SnowloadMax',\n",
       "       'hhmiSnowloadMax', 'Discomfort_Grade'],\n",
       "      dtype='object')"
      ]
     },
     "execution_count": 73,
     "metadata": {},
     "output_type": "execute_result"
    }
   ],
   "source": [
    "df = pd.read_csv(\"./CU_찐최종.csv\")\n",
    "df.columns"
   ]
  },
  {
   "cell_type": "code",
   "execution_count": 74,
   "id": "e0b9decc",
   "metadata": {},
   "outputs": [
    {
     "data": {
      "text/plain": [
       "0         2022-01-02\n",
       "1         2022-01-02\n",
       "2         2022-01-06\n",
       "3         2022-01-09\n",
       "4         2023-04-13\n",
       "             ...    \n",
       "498002    2023-01-07\n",
       "498003    2023-01-08\n",
       "498004    2023-01-08\n",
       "498005    2023-01-13\n",
       "498006    2023-01-13\n",
       "Name: SalesDate, Length: 498007, dtype: object"
      ]
     },
     "execution_count": 74,
     "metadata": {},
     "output_type": "execute_result"
    }
   ],
   "source": [
    "df['SalesDate']"
   ]
  },
  {
   "cell_type": "code",
   "execution_count": 75,
   "id": "c5fbc82b",
   "metadata": {},
   "outputs": [
    {
     "name": "stdout",
     "output_type": "stream",
     "text": [
      "중복 데이터 개수:\n",
      "0\n"
     ]
    }
   ],
   "source": [
    "# 중복된 모든 행 확인하기\n",
    "duplicates = df[df.duplicated()]\n",
    "\n",
    "print(\"중복 데이터 개수:\")\n",
    "print(len(duplicates))"
   ]
  },
  {
   "cell_type": "code",
   "execution_count": 76,
   "id": "cae3ca8f",
   "metadata": {},
   "outputs": [],
   "source": [
    "df1 = df.copy()"
   ]
  },
  {
   "cell_type": "code",
   "execution_count": 77,
   "id": "7a3bcaf7",
   "metadata": {
    "scrolled": true
   },
   "outputs": [
    {
     "name": "stdout",
     "output_type": "stream",
     "text": [
      "    idUser Gender  Age AgeGroup  Recency  Frequency  Monetary  RFM_Score  \\\n",
      "0  U100001     남성   43      40대    1.000      0.000     0.000      0.000   \n",
      "1  U100001     남성   43      40대    1.000      0.000     0.000      0.000   \n",
      "2  U100001     남성   43      40대    1.000      0.000     0.000      0.000   \n",
      "3  U100001     남성   43      40대    1.000      0.000     0.000      0.000   \n",
      "4  U100277     여성   33      30대    0.001      0.298     0.218      0.616   \n",
      "\n",
      "  2022_Cus_Grade1 2022_Cus_Grade2  ... hhmiTempMax Temp_Var hourRainfall  \\\n",
      "0             브론즈             NaN  ...        1551      8.2         4.17   \n",
      "1             브론즈             NaN  ...        1551      8.2         4.17   \n",
      "2             브론즈             NaN  ...        1604      9.2         0.00   \n",
      "3             브론즈             NaN  ...        1522      6.8         0.00   \n",
      "4             NaN             NaN  ...        1512     12.1         0.25   \n",
      "\n",
      "  RainfallAmount HumidAvg SnowloadMax hhmiSnowloadMax Discomfort_Grade  \\\n",
      "0            0.3     57.9         0.5           655.0               낮음   \n",
      "1            0.3     57.9         0.5           655.0               낮음   \n",
      "2            0.0     47.1         0.0             0.0               낮음   \n",
      "3            0.0     71.5         0.0             0.0               낮음   \n",
      "4            0.0     45.0         0.0             0.0               낮음   \n",
      "\n",
      "  월별남자고객수  월별여자고객수  \n",
      "0    4410     1760  \n",
      "1    4410     1760  \n",
      "2    4410     1760  \n",
      "3    4410     1760  \n",
      "4    5678     2321  \n",
      "\n",
      "[5 rows x 55 columns]\n"
     ]
    }
   ],
   "source": [
    "# 'SalesDate' 칼럼을 datetime 형태로 변환\n",
    "df1['SalesDate'] = pd.to_datetime(df1['SalesDate'])\n",
    "\n",
    "# 월 정보 추출\n",
    "df1['Month'] = df1['SalesDate'].dt.to_period('M')\n",
    "\n",
    "# idPOS, Month, Gender별로 중복 제거\n",
    "unique_visits = df1.drop_duplicates(subset=['idPOS', 'Month', 'Gender'])\n",
    "\n",
    "# 월별, 성별로 그룹화하여 각각의 고객 수 계산\n",
    "monthly_gender_visits = unique_visits.groupby(['Month', 'Gender'])['idPOS'].count().unstack(fill_value=0)\n",
    "\n",
    "# monthly_gender_visits 데이터프레임에서 남성 및 여성 고객 수를 df1에 매핑하기 위해\n",
    "# df1의 'Month' 칼럼을 기준으로 join을 수행합니다.\n",
    "# 먼저 monthly_gender_visits의 인덱스를 컬럼으로 리셋합니다.\n",
    "monthly_gender_visits_reset = monthly_gender_visits.reset_index()\n",
    "\n",
    "# 'Month' 칼럼을 기준으로 df1과 monthly_gender_visits_reset를 merge합니다.\n",
    "# 이 때, left_on과 right_on 파라미터를 사용하여 'Month' 칼럼을 기준으로 합니다.\n",
    "# 'how' 파라미터는 'left'로 설정하여 df1의 모든 행이 유지되도록 합니다.\n",
    "df1 = pd.merge(df1, monthly_gender_visits_reset, how='left', left_on='Month', right_on='Month')\n",
    "\n",
    "# 결과적으로 merge된 데이터프레임에는 '남성' 및 '여성' 칼럼이 추가됩니다.\n",
    "# 이 칼럼들의 이름을 '월별남자고객수', '월별여자고객수'로 변경합니다.\n",
    "df1.rename(columns={'남성': '월별남자고객수', '여성': '월별여자고객수'}, inplace=True)\n",
    "\n",
    "# 최종 데이터프레임 확인\n",
    "print(df1.head())\n"
   ]
  },
  {
   "cell_type": "code",
   "execution_count": 78,
   "id": "7a2fd25f",
   "metadata": {},
   "outputs": [
    {
     "name": "stdout",
     "output_type": "stream",
     "text": [
      "<class 'pandas.core.frame.DataFrame'>\n",
      "PeriodIndex: 24 entries, 2022-01 to 2023-12\n",
      "Freq: M\n",
      "Data columns (total 2 columns):\n",
      " #   Column  Non-Null Count  Dtype\n",
      "---  ------  --------------  -----\n",
      " 0   남성      24 non-null     int64\n",
      " 1   여성      24 non-null     int64\n",
      "dtypes: int64(2)\n",
      "memory usage: 576.0 bytes\n"
     ]
    }
   ],
   "source": [
    "monthly_gender_visits.info()"
   ]
  },
  {
   "cell_type": "code",
   "execution_count": 80,
   "id": "096dd14e",
   "metadata": {},
   "outputs": [
    {
     "data": {
      "text/plain": [
       "idUser                                                           U100001\n",
       "Gender                                                                남성\n",
       "Age                                                                   43\n",
       "AgeGroup                                                             40대\n",
       "Recency                                                              1.0\n",
       "Frequency                                                            0.0\n",
       "Monetary                                                             0.0\n",
       "RFM_Score                                                            0.0\n",
       "2022_Cus_Grade1                                                      브론즈\n",
       "2022_Cus_Grade2                                                      NaN\n",
       "2023_Cus_Grade1                                                      NaN\n",
       "2023_Cus_Grade2                                                      NaN\n",
       "2022 상반기_고객등급                                                        브론즈\n",
       "2022 하반기_고객등급                                                    Unknown\n",
       "2023 상반기_고객등급                                                    Unknown\n",
       "2023 하반기_고객등급                                                    Unknown\n",
       "Visit_Score                                                         일반고객\n",
       "SalesDate                                            2022-01-02 00:00:00\n",
       "SalesDT                                                         19:08:12\n",
       "Year                                                                2022\n",
       "Month                                                            2022-01\n",
       "Day                                                                    2\n",
       "WeekdayName                                                          일요일\n",
       "Hour                                                                  19\n",
       "ItemId                                                   I-8809253648470\n",
       "idPOS                                              U100001-POS2022-10004\n",
       "ItemNameLarge                                                         음료\n",
       "ItemNameMiddle                                                      PB음료\n",
       "ItemName                                                   22del)헤이즐넛향1L\n",
       "Item_CatORMaker                                                  delaffe\n",
       "ImageUrl               https://tqklhszfkvzk6518638.cdn.ntruss.com/pro...\n",
       "Price                                                               3500\n",
       "Sales_Day                                                         775400\n",
       "Sales_Month                                                     44004160\n",
       "Sales_Year                                                     750308990\n",
       "PayUnit_Equal_Day                                               6515.966\n",
       "PayUnit_Diff_Day                                                6304.065\n",
       "PayUnit_Equal_Month                                            62328.839\n",
       "PayUnit_Diff_Month                                              7131.955\n",
       "PayUnit_Equal_Year                                            971902.837\n",
       "PayUnit_Diff_Year                                               7272.409\n",
       "TempAvg                                                             -1.3\n",
       "TempMin                                                             -5.2\n",
       "hhmiTempMin                                                       2356.0\n",
       "TempMax                                                              3.0\n",
       "hhmiTempMax                                                         1551\n",
       "Temp_Var                                                             8.2\n",
       "hourRainfall                                                        4.17\n",
       "RainfallAmount                                                       0.3\n",
       "HumidAvg                                                            57.9\n",
       "SnowloadMax                                                          0.5\n",
       "hhmiSnowloadMax                                                    655.0\n",
       "Discomfort_Grade                                                      낮음\n",
       "월별남자고객수                                                             4410\n",
       "월별여자고객수                                                             1760\n",
       "Name: 0, dtype: object"
      ]
     },
     "execution_count": 80,
     "metadata": {},
     "output_type": "execute_result"
    }
   ],
   "source": [
    "df1"
   ]
  },
  {
   "cell_type": "code",
   "execution_count": 84,
   "id": "94fefd65",
   "metadata": {},
   "outputs": [
    {
     "name": "stdout",
     "output_type": "stream",
     "text": [
      "      Month\n",
      "0   2022-01\n",
      "1   2022-02\n",
      "2   2022-03\n",
      "3   2022-04\n",
      "4   2022-05\n",
      "5   2022-06\n",
      "6   2022-07\n",
      "7   2022-08\n",
      "8   2022-09\n",
      "9   2022-10\n",
      "10  2022-11\n",
      "11  2022-12\n",
      "12  2023-01\n",
      "13  2023-02\n",
      "14  2023-03\n",
      "15  2023-04\n",
      "16  2023-05\n",
      "17  2023-06\n",
      "18  2023-07\n",
      "19  2023-08\n",
      "20  2023-09\n",
      "21  2023-10\n",
      "22  2023-11\n",
      "23  2023-12\n"
     ]
    }
   ],
   "source": [
    "# 'Month' 칼럼을 기준으로 그룹화하고 각 그룹의 크기(행 수) 계산\n",
    "month_df = df1.groupby('Month').size().reset_index(name='Count')\n",
    "\n",
    "del month_df['Count']\n",
    "\n",
    "# 결과 출력\n",
    "print(month_df)"
   ]
  },
  {
   "cell_type": "code",
   "execution_count": 93,
   "id": "00f5808f",
   "metadata": {},
   "outputs": [
    {
     "data": {
      "text/plain": [
       "array(['음료', '식품', '과자류', '즉석조리', '간편식사', '아이스크림'], dtype=object)"
      ]
     },
     "execution_count": 93,
     "metadata": {},
     "output_type": "execute_result"
    }
   ],
   "source": [
    "df1['ItemNameLarge'].unique()"
   ]
  },
  {
   "cell_type": "code",
   "execution_count": 100,
   "id": "c4c0dfd5",
   "metadata": {},
   "outputs": [
    {
     "name": "stdout",
     "output_type": "stream",
     "text": [
      "Index(['Month', '간편식사', '과자류', '식품', '아이스크림', '음료', '즉석조리'], dtype='object', name='ItemNameLarge')\n"
     ]
    }
   ],
   "source": [
    "# 'Month'와 'ItemNameLarge'를 기준으로 데이터를 그룹화하고, 각 그룹의 크기를 계산합니다.\n",
    "result = df1.groupby(['Month', 'ItemNameLarge']).size().reset_index(name='판매개수')\n",
    "\n",
    "# 결과를 pivot_table을 사용하여 월별로 'ItemNameLarge'의 판매 개수를 나타내는 데이터 프레임으로 변환\n",
    "pivot_df = result.pivot_table(index='Month', columns='ItemNameLarge', values='판매개수', fill_value=0)\n",
    "\n",
    "pivot_df=pivot_df.reset_index()\n",
    "\n",
    "# 결과 출력\n",
    "print(pivot_df.columns)"
   ]
  },
  {
   "cell_type": "code",
   "execution_count": 102,
   "id": "f776a382",
   "metadata": {},
   "outputs": [
    {
     "name": "stdout",
     "output_type": "stream",
     "text": [
      "Index(['Month', 'PB음료', '가공식', '껌/초콜릿', '도시락', '베이커리', '빵/디저트', '샌드위치', '스낵',\n",
      "       '식재료', '아이스크림', '안주류', '유제품', '음료', '주먹밥', '즉석커피', '커피', '튀김류'],\n",
      "      dtype='object', name='ItemNameMiddle')\n"
     ]
    }
   ],
   "source": [
    "# 'Month'와 'ItemNameLarge'를 기준으로 데이터를 그룹화하고, 각 그룹의 크기를 계산합니다.\n",
    "result2 = df1.groupby(['Month', 'ItemNameMiddle']).size().reset_index(name='판매개수')\n",
    "\n",
    "# 결과를 pivot_table을 사용하여 월별로 'ItemNameLarge'의 판매 개수를 나타내는 데이터 프레임으로 변환\n",
    "pivot_df2 = result2.pivot_table(index='Month', columns='ItemNameMiddle', values='판매개수', fill_value=0)\n",
    "\n",
    "pivot_df2=pivot_df2.reset_index()\n",
    "\n",
    "# 결과 출력\n",
    "print(pivot_df2.columns)"
   ]
  },
  {
   "cell_type": "code",
   "execution_count": 131,
   "id": "6aa4e0a5",
   "metadata": {},
   "outputs": [
    {
     "name": "stdout",
     "output_type": "stream",
     "text": [
      "      Month   HumidAvg\n",
      "0   2022-01  55.344780\n",
      "1   2022-02  55.184743\n",
      "2   2022-03  61.569481\n",
      "3   2022-04  54.863347\n",
      "4   2022-05  55.318765\n",
      "5   2022-06  73.892342\n",
      "6   2022-07  77.183336\n",
      "7   2022-08  80.708606\n",
      "8   2022-09  67.964760\n",
      "9   2022-10  68.626318\n",
      "10  2022-11  64.681024\n",
      "11  2022-12  59.374681\n",
      "12  2023-01  62.879705\n",
      "13  2023-02  58.678656\n",
      "14  2023-03  50.573452\n",
      "15  2023-04  61.004434\n",
      "16  2023-05  61.706589\n",
      "17  2023-06  73.237898\n",
      "18  2023-07  80.790174\n",
      "19  2023-08  76.476964\n",
      "20  2023-09  73.236832\n",
      "21  2023-10  66.496431\n",
      "22  2023-11  64.955735\n",
      "23  2023-12  68.095921\n"
     ]
    }
   ],
   "source": [
    "discomfort_mapping = {\n",
    "    '낮음': 1,\n",
    "    '보통': 2,\n",
    "    '높음': 3,\n",
    "    '매우 높음': 4\n",
    "}\n",
    "\n",
    "df1['Discomfort_Score'] = df1['Discomfort_Grade'].map(discomfort_mapping)\n",
    "\n",
    "# 'Month' 별로 'Discomfort_Score'의 평균값 계산\n",
    "monthly_discomfort_avg = df1.groupby('Month')['Discomfort_Score'].mean().reset_index(name='Discomfort_Avg')\n",
    "month_temp_avg = df1.groupby('Month')['TempAvg'].mean().reset_index(name='TempAvg')\n",
    "month_temp_var = df1.groupby('Month')['Temp_Var'].mean().reset_index(name='Temp_Var')\n",
    "month_humid_avg = df1.groupby('Month')['HumidAvg'].mean().reset_index(name='HumidAvg')\n",
    "# 결과 확인\n",
    "print(month_humid_avg)"
   ]
  },
  {
   "cell_type": "code",
   "execution_count": 123,
   "id": "21fc845b",
   "metadata": {},
   "outputs": [
    {
     "name": "stdout",
     "output_type": "stream",
     "text": [
      "<class 'pandas.core.frame.DataFrame'>\n",
      "RangeIndex: 790 entries, 0 to 789\n",
      "Data columns (total 13 columns):\n",
      " #   Column           Non-Null Count  Dtype  \n",
      "---  ------           --------------  -----  \n",
      " 0   AreaId           790 non-null    int64  \n",
      " 1   Area             790 non-null    object \n",
      " 2   dateObs          790 non-null    object \n",
      " 3   TempAvg          790 non-null    float64\n",
      " 4   TempMin          789 non-null    float64\n",
      " 5   hhmiTempMin      789 non-null    float64\n",
      " 6   TempMax          790 non-null    float64\n",
      " 7   hhmiTempMax      790 non-null    int64  \n",
      " 8   hourRainfall     322 non-null    float64\n",
      " 9   RainfallAmount   323 non-null    float64\n",
      " 10  HumidAvg         790 non-null    float64\n",
      " 11  SnowloadMax      65 non-null     float64\n",
      " 12  hhmiSnowloadMax  65 non-null     float64\n",
      "dtypes: float64(9), int64(2), object(2)\n",
      "memory usage: 80.4+ KB\n"
     ]
    }
   ],
   "source": [
    "weather_df = pd.read_csv('./cvs_weather.csv',encoding='euc-kr')\n",
    "weather_df.info()"
   ]
  },
  {
   "cell_type": "code",
   "execution_count": 124,
   "id": "de02a3e4",
   "metadata": {},
   "outputs": [],
   "source": [
    "weather_df['RainfallAmount'] = weather_df['RainfallAmount'].fillna(0)\n",
    "weather_df['hourRainfall'] = weather_df['hourRainfall'].fillna(0)"
   ]
  },
  {
   "cell_type": "code",
   "execution_count": 126,
   "id": "f1e2acd8",
   "metadata": {},
   "outputs": [
    {
     "name": "stdout",
     "output_type": "stream",
     "text": [
      "   YearMonth  TotalRainfall\n",
      "0    2022-01            5.5\n",
      "1    2022-02            4.7\n",
      "2    2022-03          102.6\n",
      "3    2022-04           20.4\n",
      "4    2022-05            7.5\n",
      "5    2022-06          393.8\n",
      "6    2022-07          252.3\n",
      "7    2022-08          564.8\n",
      "8    2022-09          201.5\n",
      "9    2022-10          124.1\n",
      "10   2022-11           84.5\n",
      "11   2022-12           13.6\n",
      "12   2023-01           47.9\n",
      "13   2023-02            1.0\n",
      "14   2023-03           10.5\n",
      "15   2023-04           96.9\n",
      "16   2023-05          155.6\n",
      "17   2023-06          195.6\n",
      "18   2023-07          459.9\n",
      "19   2023-08          298.1\n",
      "20   2023-09          134.5\n",
      "21   2023-10           31.0\n",
      "22   2023-11           81.9\n",
      "23   2023-12           85.9\n",
      "24   2024-01           18.9\n",
      "25   2024-02           74.7\n"
     ]
    }
   ],
   "source": [
    "# 'dateObs' 칼럼을 datetime 타입으로 변환\n",
    "weather_df['dateObs'] = pd.to_datetime(weather_df['dateObs'])\n",
    "\n",
    "# 'YearMonth' 칼럼 생성 (연도와 월만 추출)\n",
    "weather_df['YearMonth'] = weather_df['dateObs'].dt.to_period('M')\n",
    "\n",
    "# 'YearMonth' 기준으로 그룹화하고 'RainfallAmount'의 합계 계산\n",
    "monthly_rainfall = weather_df.groupby('YearMonth')['RainfallAmount'].sum().reset_index(name='TotalRainfall')\n",
    "\n",
    "# 결과 확인\n",
    "print(monthly_rainfall)"
   ]
  },
  {
   "cell_type": "code",
   "execution_count": 127,
   "id": "eed48499",
   "metadata": {},
   "outputs": [
    {
     "name": "stdout",
     "output_type": "stream",
     "text": [
      "   YearMonth  TotalhourRainfall\n",
      "0    2022-01              42.43\n",
      "1    2022-02              28.75\n",
      "2    2022-03              72.32\n",
      "3    2022-04              41.41\n",
      "4    2022-05              21.00\n",
      "5    2022-06             137.15\n",
      "6    2022-07             101.81\n",
      "7    2022-08             189.42\n",
      "8    2022-09              62.93\n",
      "9    2022-10              68.82\n",
      "10   2022-11              35.82\n",
      "11   2022-12              56.74\n",
      "12   2023-01             104.80\n",
      "13   2023-02              13.51\n",
      "14   2023-03              15.16\n",
      "15   2023-04             108.40\n",
      "16   2023-05              95.17\n",
      "17   2023-06              90.68\n",
      "18   2023-07             156.35\n",
      "19   2023-08             151.18\n",
      "20   2023-09             115.49\n",
      "21   2023-10              24.50\n",
      "22   2023-11              72.41\n",
      "23   2023-12             141.71\n",
      "24   2024-01              75.42\n",
      "25   2024-02             150.57\n"
     ]
    }
   ],
   "source": [
    "# 'dateObs' 칼럼을 datetime 타입으로 변환\n",
    "weather_df['dateObs'] = pd.to_datetime(weather_df['dateObs'])\n",
    "\n",
    "# 'YearMonth' 칼럼 생성 (연도와 월만 추출)\n",
    "weather_df['YearMonth'] = weather_df['dateObs'].dt.to_period('M')\n",
    "\n",
    "# 'YearMonth' 기준으로 그룹화하고 'RainfallAmount'의 합계 계산\n",
    "monthly_rainfall2 = weather_df.groupby('YearMonth')['hourRainfall'].sum().reset_index(name='TotalhourRainfall')\n",
    "\n",
    "# 결과 확인\n",
    "print(monthly_rainfall2)"
   ]
  },
  {
   "cell_type": "code",
   "execution_count": 133,
   "id": "0ec0eb28",
   "metadata": {},
   "outputs": [
    {
     "name": "stdout",
     "output_type": "stream",
     "text": [
      "   YearMonth   HumidAvg\n",
      "0    2022-01  55.212903\n",
      "1    2022-02  54.696429\n",
      "2    2022-03  61.932258\n",
      "3    2022-04  55.030000\n",
      "4    2022-05  55.335484\n",
      "5    2022-06  73.376667\n",
      "6    2022-07  77.232258\n",
      "7    2022-08  80.170968\n",
      "8    2022-09  68.090000\n",
      "9    2022-10  68.887097\n",
      "10   2022-11  64.390000\n",
      "11   2022-12  58.919355\n",
      "12   2023-01  63.303226\n",
      "13   2023-02  58.900000\n",
      "14   2023-03  51.241935\n",
      "15   2023-04  59.933333\n",
      "16   2023-05  62.493548\n",
      "17   2023-06  72.433333\n",
      "18   2023-07  81.074194\n",
      "19   2023-08  76.351613\n",
      "20   2023-09  73.483333\n",
      "21   2023-10  66.477419\n",
      "22   2023-11  64.503333\n",
      "23   2023-12  69.348387\n",
      "24   2024-01  66.561290\n",
      "25   2024-02  72.948276\n"
     ]
    }
   ],
   "source": [
    "# 'dateObs' 칼럼을 datetime 타입으로 변환\n",
    "weather_df['dateObs'] = pd.to_datetime(weather_df['dateObs'])\n",
    "\n",
    "# 'YearMonth' 칼럼 생성 (연도와 월만 추출)\n",
    "weather_df['YearMonth'] = weather_df['dateObs'].dt.to_period('M')\n",
    "\n",
    "# 'YearMonth' 기준으로 그룹화하고 'RainfallAmount'의 합계 계산\n",
    "monthly_humid = weather_df.groupby('YearMonth')['HumidAvg'].mean().reset_index(name='HumidAvg')\n",
    "\n",
    "# 결과 확인\n",
    "print(monthly_humid)"
   ]
  },
  {
   "cell_type": "code",
   "execution_count": 134,
   "id": "aff31778",
   "metadata": {},
   "outputs": [
    {
     "name": "stdout",
     "output_type": "stream",
     "text": [
      "      Month  월별남자고객수  월별여자고객수  PayUnit_Equal_Month  간편식사 판매량  과자류 판매량  식품 판매량  \\\n",
      "0   2022-01   4410.0   1760.0            62328.839    1156.0   4219.0  5497.0   \n",
      "1   2022-02   3432.0   1430.0            50497.221     928.0   3241.0  4245.0   \n",
      "2   2022-03   5277.0   2138.0            73401.980    1392.0   4843.0  6374.0   \n",
      "3   2022-04   5623.0   2265.0            80152.760    1440.0   4993.0  7100.0   \n",
      "4   2022-05   6387.0   2584.0            90379.095    1612.0   5608.0  8110.0   \n",
      "5   2022-06   6630.0   2648.0            93645.970    1733.0   5796.0  8320.0   \n",
      "6   2022-07   6818.0   2744.0            95609.481    1759.0   6087.0  8618.0   \n",
      "7   2022-08   7493.0   3023.0           107543.306    1878.0   6620.0  9467.0   \n",
      "8   2022-09   7069.0   2880.0           102877.847    1867.0   6347.0  8881.0   \n",
      "9   2022-10   7640.0   3032.0           106315.165    1924.0   6689.0  9463.0   \n",
      "10  2022-11   6820.0   2750.0            94425.056    1818.0   6251.0  8443.0   \n",
      "11  2022-12   5968.0   2357.0            79833.490    1554.0   5713.0  7536.0   \n",
      "12  2023-01   4767.0   1894.0            61606.867    1248.0   4573.0  5839.0   \n",
      "13  2023-02   3673.0   1495.0            48788.070     962.0   3383.0  4446.0   \n",
      "14  2023-03   5412.0   2244.0            72127.601    1412.0   5113.0  6555.0   \n",
      "15  2023-04   5678.0   2321.0            76613.115    1456.0   5134.0  7238.0   \n",
      "16  2023-05   6770.0   2811.0            89144.330    1716.0   6120.0  8713.0   \n",
      "17  2023-06   6942.0   2908.0            91705.820    1758.0   6262.0  8744.0   \n",
      "18  2023-07   7347.0   2948.0            95996.584    1874.0   6420.0  9436.0   \n",
      "19  2023-08   7722.0   3147.0            99972.983    1931.0   6891.0  9723.0   \n",
      "20  2023-09   7395.0   3076.0            98887.488    1898.0   6732.0  9399.0   \n",
      "21  2023-10   7795.0   3246.0           101772.170    1978.0   7161.0  9758.0   \n",
      "22  2023-11   6995.0   2937.0            88921.288    1826.0   6418.0  8507.0   \n",
      "23  2023-12   5739.0   2426.0            76879.313    1505.0   5465.0  7313.0   \n",
      "\n",
      "    아이스크림 판매량  음료 판매량  즉석조리 판매량  ...  (중)스낵_판매량  (중)식재료_판매량  (중)아이스크림_판매량  \\\n",
      "0       640.0  2345.0     368.0  ...     1353.0      1935.0         640.0   \n",
      "1       601.0  1949.0     257.0  ...     1080.0      1384.0         601.0   \n",
      "2      1115.0  3051.0     411.0  ...     1639.0      2218.0        1115.0   \n",
      "3      1203.0  3326.0     482.0  ...     1649.0      2399.0        1203.0   \n",
      "4      1469.0  4037.0     507.0  ...     1950.0      2744.0        1469.0   \n",
      "5      1522.0  4259.0     517.0  ...     2016.0      2746.0        1522.0   \n",
      "6      1551.0  4330.0     560.0  ...     2055.0      2887.0        1551.0   \n",
      "7      1732.0  5009.0     578.0  ...     2352.0      3157.0        1732.0   \n",
      "8      1599.0  4585.0     555.0  ...     2192.0      3000.0        1599.0   \n",
      "9      1605.0  4628.0     598.0  ...     2339.0      3161.0        1605.0   \n",
      "10     1040.0  3920.0     550.0  ...     2117.0      2888.0        1040.0   \n",
      "11      784.0  3122.0     498.0  ...     1915.0      2530.0         784.0   \n",
      "12      942.0  2451.0     404.0  ...     1541.0      2091.0         942.0   \n",
      "13      793.0  2073.0     304.0  ...     1104.0      1522.0         793.0   \n",
      "14     1207.0  3236.0     441.0  ...     1704.0      2363.0        1207.0   \n",
      "15     1297.0  3400.0     464.0  ...     1758.0      2496.0        1297.0   \n",
      "16     1524.0  4364.0     572.0  ...     2074.0      2904.0        1524.0   \n",
      "17     1656.0  4687.0     522.0  ...     2149.0      3015.0        1656.0   \n",
      "18     1713.0  4842.0     577.0  ...     2283.0      3207.0        1713.0   \n",
      "19     1771.0  4960.0     618.0  ...     2392.0      3235.0        1771.0   \n",
      "20     1826.0  4903.0     630.0  ...     2356.0      3234.0        1826.0   \n",
      "21     1810.0  4831.0     632.0  ...     2447.0      3285.0        1810.0   \n",
      "22     1484.0  3961.0     637.0  ...     2151.0      2951.0        1484.0   \n",
      "23     1215.0  3075.0     453.0  ...     1846.0      2472.0        1215.0   \n",
      "\n",
      "    (중)안주류_판매량    TempAvg   Temp_Var  TotalRainfall  TotalhourRainfall  \\\n",
      "0        930.0  -2.241842   8.864724            5.5              42.43   \n",
      "1        750.0  -0.962178   9.312432            4.7              28.75   \n",
      "2       1050.0   7.804358   9.780519          102.6              72.32   \n",
      "3       1413.0  14.710451  10.445637           20.4              41.41   \n",
      "4       1687.0  19.233112  11.192447            7.5              21.00   \n",
      "5       1644.0  23.164501   7.681551          393.8             137.15   \n",
      "6       1782.0  27.320729   6.696734          252.3             101.81   \n",
      "7       1985.0  25.708480   5.579006          564.8             189.42   \n",
      "8       1732.0  22.242146   9.185034          201.5              62.93   \n",
      "9       1939.0  14.377288   9.568427          124.1              68.82   \n",
      "10      1427.0  10.197453   9.739887           84.5              35.82   \n",
      "11      1448.0  -2.607773   8.349867           13.6              56.74   \n",
      "12       898.0  -1.743974   8.873171           47.9             104.80   \n",
      "13       732.0   2.299164   9.200109            1.0              13.51   \n",
      "14      1111.0   9.919873  12.108962           10.5              15.16   \n",
      "15      1398.0  13.788925   9.946274           96.9             108.40   \n",
      "16      1778.0  19.716259  10.796154          155.6              95.17   \n",
      "17      1760.0  23.285306   7.881692          195.6              90.68   \n",
      "18      1903.0  26.777170   6.440612          459.9             156.35   \n",
      "19      1972.0  27.146563   6.438862          298.1             151.18   \n",
      "20      1911.0  23.629679   7.490653          134.5             115.49   \n",
      "21      1914.0  15.824463   9.447872           31.0              24.50   \n",
      "22      1467.0   6.927451   8.647120           81.9              72.41   \n",
      "23      1484.0   1.136024   7.974351           85.9             141.71   \n",
      "\n",
      "     HumidAvg      월별_매출액  \n",
      "0   55.212903  44004160.0  \n",
      "1   54.696429  35247060.0  \n",
      "2   61.932258  52629220.0  \n",
      "3   55.030000  57790140.0  \n",
      "4   55.335484  65886360.0  \n",
      "5   73.376667  68080620.0  \n",
      "6   77.232258  69986140.0  \n",
      "7   80.170968  77753810.0  \n",
      "8   68.090000  74072050.0  \n",
      "9   68.887097  77397440.0  \n",
      "10  64.390000  67986040.0  \n",
      "11  58.919355  59475950.0  \n",
      "12  63.303226  48176570.0  \n",
      "13  58.900000  37420450.0  \n",
      "14  51.241935  55610380.0  \n",
      "15  59.933333  59758230.0  \n",
      "16  62.493548  71850330.0  \n",
      "17  72.433333  73272950.0  \n",
      "18  81.074194  77565240.0  \n",
      "19  76.351613  80778170.0  \n",
      "20  73.483333  79109990.0  \n",
      "21  66.477419  81621280.0  \n",
      "22  64.503333  71137030.0  \n",
      "23  69.348387  60427140.0  \n",
      "\n",
      "[24 rows x 34 columns]\n"
     ]
    }
   ],
   "source": [
    "for i in range(len(month_df)):\n",
    "    month_value = month_df.iloc[i]['Month']\n",
    "    month_df.loc[i,'월별남자고객수'] = df1[df1['Month']==month_value]['월별남자고객수'].values[0]\n",
    "    month_df.loc[i,'월별여자고객수'] = df1[df1['Month']==month_value]['월별여자고객수'].values[0]\n",
    "    month_df.loc[i,'Discomfort_Avg'] = monthly_discomfort_avg[monthly_discomfort_avg['Month']==month_value]['Discomfort_Avg'].values[0]\n",
    "    month_df.loc[i,'TempAvg'] = month_temp_avg[month_temp_avg['Month']==month_value]['TempAvg'].values[0]\n",
    "    month_df.loc[i,'Temp_Var'] = month_temp_var[month_temp_var['Month']==month_value]['Temp_Var'].values[0]\n",
    "    month_df.loc[i,'TotalRainfall'] = monthly_rainfall[monthly_rainfall['YearMonth']==month_value]['TotalRainfall'].values[0]\n",
    "    month_df.loc[i,'TotalhourRainfall'] = monthly_rainfall2[monthly_rainfall2['YearMonth']==month_value]['TotalhourRainfall'].values[0]\n",
    "    month_df.loc[i,'HumidAvg'] = monthly_humid[monthly_humid['YearMonth']==month_value]['HumidAvg'].values[0]\n",
    "    month_df.loc[i,'PayUnit_Equal_Month'] = df1[df1['Month']==month_value]['PayUnit_Equal_Month'].values[0]\n",
    "    month_df.loc[i,'(대)간편식사_판매량'] = pivot_df[pivot_df['Month']==month_value]['간편식사'].values[0]\n",
    "    month_df.loc[i,'(대)과자류_판매량'] = pivot_df[pivot_df['Month']==month_value]['과자류'].values[0]\n",
    "    month_df.loc[i,'(대)식품_판매량'] = pivot_df[pivot_df['Month']==month_value]['식품'].values[0]\n",
    "    month_df.loc[i,'(대)아이스크림_판매량'] = pivot_df[pivot_df['Month']==month_value]['아이스크림'].values[0]\n",
    "    month_df.loc[i,'(대)음료_판매량'] = pivot_df[pivot_df['Month']==month_value]['음료'].values[0]\n",
    "    month_df.loc[i,'(대)즉석조리_판매량'] = pivot_df[pivot_df['Month']==month_value]['즉석조리'].values[0]\n",
    "    month_df.loc[i,'(중)PB음료_판매량'] = pivot_df2[pivot_df2['Month']==month_value]['PB음료'].values[0]\n",
    "    month_df.loc[i,'(중)가공식_판매량'] = pivot_df2[pivot_df2['Month']==month_value]['가공식'].values[0]\n",
    "    month_df.loc[i,'(중)껌/초콜릿_판매량'] = pivot_df2[pivot_df2['Month']==month_value]['껌/초콜릿'].values[0]\n",
    "    month_df.loc[i,'(중)도시락_판매량'] = pivot_df2[pivot_df2['Month']==month_value]['도시락'].values[0]\n",
    "    month_df.loc[i,'(중)베이커리_판매량'] = pivot_df2[pivot_df2['Month']==month_value]['베이커리'].values[0]\n",
    "    month_df.loc[i,'(중)빵/디저트_판매량'] = pivot_df2[pivot_df2['Month']==month_value]['빵/디저트'].values[0]\n",
    "    month_df.loc[i,'(중)샌드위치_판매량'] = pivot_df2[pivot_df2['Month']==month_value]['샌드위치'].values[0]\n",
    "    month_df.loc[i,'(중)스낵_판매량'] = pivot_df2[pivot_df2['Month']==month_value]['스낵'].values[0]\n",
    "    month_df.loc[i,'(중)식재료_판매량'] = pivot_df2[pivot_df2['Month']==month_value]['식재료'].values[0]\n",
    "    month_df.loc[i,'(중)아이스크림_판매량'] = pivot_df2[pivot_df2['Month']==month_value]['아이스크림'].values[0]\n",
    "    month_df.loc[i,'(중)안주류_판매량'] = pivot_df2[pivot_df2['Month']==month_value]['안주류'].values[0]\n",
    "    month_df.loc[i,'월별_매출액'] = df1[df1['Month']==month_value]['Sales_Month'].values[0]\n",
    "    \n",
    "# 결과 출력\n",
    "print(month_df)"
   ]
  },
  {
   "cell_type": "code",
   "execution_count": null,
   "id": "a1939c0f",
   "metadata": {},
   "outputs": [],
   "source": []
  },
  {
   "cell_type": "code",
   "execution_count": null,
   "id": "289d4356",
   "metadata": {},
   "outputs": [],
   "source": []
  },
  {
   "cell_type": "code",
   "execution_count": null,
   "id": "47b79d76",
   "metadata": {},
   "outputs": [],
   "source": []
  },
  {
   "cell_type": "code",
   "execution_count": null,
   "id": "23bb7d4a",
   "metadata": {},
   "outputs": [],
   "source": []
  },
  {
   "cell_type": "code",
   "execution_count": null,
   "id": "95faeb92",
   "metadata": {},
   "outputs": [],
   "source": []
  },
  {
   "cell_type": "code",
   "execution_count": null,
   "id": "692a19e6",
   "metadata": {},
   "outputs": [],
   "source": []
  },
  {
   "cell_type": "code",
   "execution_count": null,
   "id": "ef6b0a46",
   "metadata": {},
   "outputs": [],
   "source": []
  },
  {
   "cell_type": "code",
   "execution_count": null,
   "id": "fe491bcc",
   "metadata": {},
   "outputs": [],
   "source": []
  },
  {
   "cell_type": "code",
   "execution_count": null,
   "id": "afeb173e",
   "metadata": {},
   "outputs": [],
   "source": []
  },
  {
   "cell_type": "code",
   "execution_count": null,
   "id": "256e1565",
   "metadata": {},
   "outputs": [],
   "source": []
  },
  {
   "cell_type": "code",
   "execution_count": null,
   "id": "7d03a21d",
   "metadata": {},
   "outputs": [],
   "source": []
  },
  {
   "cell_type": "code",
   "execution_count": null,
   "id": "cb6e5842",
   "metadata": {},
   "outputs": [],
   "source": []
  },
  {
   "cell_type": "code",
   "execution_count": null,
   "id": "2fca55e1",
   "metadata": {},
   "outputs": [],
   "source": []
  },
  {
   "cell_type": "code",
   "execution_count": null,
   "id": "ffd96c0b",
   "metadata": {},
   "outputs": [],
   "source": []
  },
  {
   "cell_type": "code",
   "execution_count": null,
   "id": "e1e03e5f",
   "metadata": {},
   "outputs": [],
   "source": []
  },
  {
   "cell_type": "code",
   "execution_count": null,
   "id": "97d35155",
   "metadata": {},
   "outputs": [],
   "source": []
  },
  {
   "cell_type": "code",
   "execution_count": null,
   "id": "276933f0",
   "metadata": {},
   "outputs": [],
   "source": []
  },
  {
   "cell_type": "code",
   "execution_count": null,
   "id": "9837fb2b",
   "metadata": {},
   "outputs": [],
   "source": []
  },
  {
   "cell_type": "code",
   "execution_count": null,
   "id": "be88b582",
   "metadata": {},
   "outputs": [],
   "source": []
  },
  {
   "cell_type": "code",
   "execution_count": null,
   "id": "7a9ef792",
   "metadata": {},
   "outputs": [],
   "source": []
  },
  {
   "cell_type": "code",
   "execution_count": null,
   "id": "a4d1ec1e",
   "metadata": {},
   "outputs": [],
   "source": []
  }
 ],
 "metadata": {
  "kernelspec": {
   "display_name": "Python 3 (ipykernel)",
   "language": "python",
   "name": "python3"
  },
  "language_info": {
   "codemirror_mode": {
    "name": "ipython",
    "version": 3
   },
   "file_extension": ".py",
   "mimetype": "text/x-python",
   "name": "python",
   "nbconvert_exporter": "python",
   "pygments_lexer": "ipython3",
   "version": "3.10.9"
  }
 },
 "nbformat": 4,
 "nbformat_minor": 5
}
